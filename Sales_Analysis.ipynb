{
 "cells": [
  {
   "cell_type": "markdown",
   "metadata": {
    "id": "T17SxE29mIg6"
   },
   "source": [
    "# Import Libraries & Load Dataset"
   ]
  },
  {
   "cell_type": "markdown",
   "metadata": {
    "id": "CmKPH8u2mIg7"
   },
   "source": [
    "### Imports"
   ]
  },
  {
   "cell_type": "code",
   "execution_count": 142,
   "metadata": {
    "id": "3brtdSeCmIg7"
   },
   "outputs": [],
   "source": [
    "import pandas as pd\n",
    "import numpy as np\n"
   ]
  },
  {
   "cell_type": "markdown",
   "metadata": {
    "id": "4MGRUathmIg9"
   },
   "source": [
    "### Load DataFrame"
   ]
  },
  {
   "cell_type": "markdown",
   "metadata": {
    "id": "tiUJTWQxmIg-"
   },
   "source": [
    "**Load DataFrame and store it in a variable called \"df\"**"
   ]
  },
  {
   "cell_type": "code",
   "execution_count": 79,
   "metadata": {
    "id": "VxCK6A7vmIg-"
   },
   "outputs": [],
   "source": [
    "df = pd.read_excel(\"data.xlsx\")"
   ]
  },
  {
   "cell_type": "markdown",
   "metadata": {
    "id": "IPLn0XzimIg-"
   },
   "source": [
    "**Inspect first 5 rows of the DataFrame**"
   ]
  },
  {
   "cell_type": "code",
   "execution_count": 3,
   "metadata": {
    "id": "nVxAyQb-mIg-",
    "scrolled": true
   },
   "outputs": [
    {
     "data": {
      "text/html": [
       "<div>\n",
       "<style scoped>\n",
       "    .dataframe tbody tr th:only-of-type {\n",
       "        vertical-align: middle;\n",
       "    }\n",
       "\n",
       "    .dataframe tbody tr th {\n",
       "        vertical-align: top;\n",
       "    }\n",
       "\n",
       "    .dataframe thead th {\n",
       "        text-align: right;\n",
       "    }\n",
       "</style>\n",
       "<table border=\"1\" class=\"dataframe\">\n",
       "  <thead>\n",
       "    <tr style=\"text-align: right;\">\n",
       "      <th></th>\n",
       "      <th>Row ID</th>\n",
       "      <th>Order ID</th>\n",
       "      <th>Order Date</th>\n",
       "      <th>Ship Mode</th>\n",
       "      <th>Customer ID</th>\n",
       "      <th>Customer Name</th>\n",
       "      <th>Segment</th>\n",
       "      <th>Country</th>\n",
       "      <th>City</th>\n",
       "      <th>State</th>\n",
       "      <th>Postal Code</th>\n",
       "      <th>Region</th>\n",
       "      <th>Product ID</th>\n",
       "      <th>Category</th>\n",
       "      <th>Sub-Category</th>\n",
       "      <th>Product Name</th>\n",
       "      <th>Sales</th>\n",
       "      <th>Quantity</th>\n",
       "      <th>Discount</th>\n",
       "      <th>Profit</th>\n",
       "    </tr>\n",
       "  </thead>\n",
       "  <tbody>\n",
       "    <tr>\n",
       "      <th>0</th>\n",
       "      <td>13</td>\n",
       "      <td>CA-2017-114412</td>\n",
       "      <td>2020-04-15</td>\n",
       "      <td>Standard Class</td>\n",
       "      <td>AA-10480</td>\n",
       "      <td>Andrew Allen</td>\n",
       "      <td>Consumer</td>\n",
       "      <td>United States</td>\n",
       "      <td>Concord</td>\n",
       "      <td>North Carolina</td>\n",
       "      <td>28027</td>\n",
       "      <td>South</td>\n",
       "      <td>OFF-PA-10002365</td>\n",
       "      <td>Office Supplies</td>\n",
       "      <td>Paper</td>\n",
       "      <td>Xerox 1967</td>\n",
       "      <td>15.552</td>\n",
       "      <td>3</td>\n",
       "      <td>0.2</td>\n",
       "      <td>5.4432</td>\n",
       "    </tr>\n",
       "    <tr>\n",
       "      <th>1</th>\n",
       "      <td>24</td>\n",
       "      <td>US-2017-156909</td>\n",
       "      <td>2020-07-16</td>\n",
       "      <td>Second Class</td>\n",
       "      <td>SF-20065</td>\n",
       "      <td>Sandra Flanagan</td>\n",
       "      <td>Consumer</td>\n",
       "      <td>United States</td>\n",
       "      <td>Philadelphia</td>\n",
       "      <td>Pennsylvania</td>\n",
       "      <td>19140</td>\n",
       "      <td>East</td>\n",
       "      <td>FUR-CH-10002774</td>\n",
       "      <td>Furniture</td>\n",
       "      <td>Chairs</td>\n",
       "      <td>Global Deluxe Stacking Chair, Gray</td>\n",
       "      <td>71.372</td>\n",
       "      <td>2</td>\n",
       "      <td>0.3</td>\n",
       "      <td>-1.0196</td>\n",
       "    </tr>\n",
       "    <tr>\n",
       "      <th>2</th>\n",
       "      <td>35</td>\n",
       "      <td>CA-2017-107727</td>\n",
       "      <td>2020-10-19</td>\n",
       "      <td>Second Class</td>\n",
       "      <td>MA-17560</td>\n",
       "      <td>Matt Abelman</td>\n",
       "      <td>Home Office</td>\n",
       "      <td>United States</td>\n",
       "      <td>Houston</td>\n",
       "      <td>Texas</td>\n",
       "      <td>77095</td>\n",
       "      <td>Central</td>\n",
       "      <td>OFF-PA-10000249</td>\n",
       "      <td>Office Supplies</td>\n",
       "      <td>Paper</td>\n",
       "      <td>Easy-staple paper</td>\n",
       "      <td>29.472</td>\n",
       "      <td>3</td>\n",
       "      <td>0.2</td>\n",
       "      <td>9.9468</td>\n",
       "    </tr>\n",
       "    <tr>\n",
       "      <th>3</th>\n",
       "      <td>42</td>\n",
       "      <td>CA-2017-120999</td>\n",
       "      <td>2020-09-10</td>\n",
       "      <td>Standard Class</td>\n",
       "      <td>LC-16930</td>\n",
       "      <td>Linda Cazamias</td>\n",
       "      <td>Corporate</td>\n",
       "      <td>United States</td>\n",
       "      <td>Naperville</td>\n",
       "      <td>Illinois</td>\n",
       "      <td>60540</td>\n",
       "      <td>Central</td>\n",
       "      <td>TEC-PH-10004093</td>\n",
       "      <td>Technology</td>\n",
       "      <td>Phones</td>\n",
       "      <td>Panasonic Kx-TS550</td>\n",
       "      <td>147.168</td>\n",
       "      <td>4</td>\n",
       "      <td>0.2</td>\n",
       "      <td>16.5564</td>\n",
       "    </tr>\n",
       "    <tr>\n",
       "      <th>4</th>\n",
       "      <td>44</td>\n",
       "      <td>CA-2017-139619</td>\n",
       "      <td>2020-09-19</td>\n",
       "      <td>Standard Class</td>\n",
       "      <td>ES-14080</td>\n",
       "      <td>Erin Smith</td>\n",
       "      <td>Corporate</td>\n",
       "      <td>United States</td>\n",
       "      <td>Melbourne</td>\n",
       "      <td>Florida</td>\n",
       "      <td>32935</td>\n",
       "      <td>South</td>\n",
       "      <td>OFF-ST-10003282</td>\n",
       "      <td>Office Supplies</td>\n",
       "      <td>Storage</td>\n",
       "      <td>Advantus 10-Drawer Portable Organizer, Chrome ...</td>\n",
       "      <td>95.616</td>\n",
       "      <td>2</td>\n",
       "      <td>0.2</td>\n",
       "      <td>9.5616</td>\n",
       "    </tr>\n",
       "  </tbody>\n",
       "</table>\n",
       "</div>"
      ],
      "text/plain": [
       "   Row ID        Order ID Order Date       Ship Mode Customer ID  \\\n",
       "0      13  CA-2017-114412 2020-04-15  Standard Class    AA-10480   \n",
       "1      24  US-2017-156909 2020-07-16    Second Class    SF-20065   \n",
       "2      35  CA-2017-107727 2020-10-19    Second Class    MA-17560   \n",
       "3      42  CA-2017-120999 2020-09-10  Standard Class    LC-16930   \n",
       "4      44  CA-2017-139619 2020-09-19  Standard Class    ES-14080   \n",
       "\n",
       "     Customer Name      Segment        Country          City           State  \\\n",
       "0     Andrew Allen     Consumer  United States       Concord  North Carolina   \n",
       "1  Sandra Flanagan     Consumer  United States  Philadelphia    Pennsylvania   \n",
       "2     Matt Abelman  Home Office  United States       Houston           Texas   \n",
       "3   Linda Cazamias    Corporate  United States    Naperville        Illinois   \n",
       "4       Erin Smith    Corporate  United States     Melbourne         Florida   \n",
       "\n",
       "   Postal Code   Region       Product ID         Category Sub-Category  \\\n",
       "0        28027    South  OFF-PA-10002365  Office Supplies        Paper   \n",
       "1        19140     East  FUR-CH-10002774        Furniture       Chairs   \n",
       "2        77095  Central  OFF-PA-10000249  Office Supplies        Paper   \n",
       "3        60540  Central  TEC-PH-10004093       Technology       Phones   \n",
       "4        32935    South  OFF-ST-10003282  Office Supplies      Storage   \n",
       "\n",
       "                                        Product Name    Sales  Quantity  \\\n",
       "0                                         Xerox 1967   15.552         3   \n",
       "1                 Global Deluxe Stacking Chair, Gray   71.372         2   \n",
       "2                                  Easy-staple paper   29.472         3   \n",
       "3                                 Panasonic Kx-TS550  147.168         4   \n",
       "4  Advantus 10-Drawer Portable Organizer, Chrome ...   95.616         2   \n",
       "\n",
       "   Discount   Profit  \n",
       "0       0.2   5.4432  \n",
       "1       0.3  -1.0196  \n",
       "2       0.2   9.9468  \n",
       "3       0.2  16.5564  \n",
       "4       0.2   9.5616  "
      ]
     },
     "execution_count": 3,
     "metadata": {},
     "output_type": "execute_result"
    }
   ],
   "source": [
    "# A particular function exists in pandas for this \n",
    "df.head()"
   ]
  },
  {
   "cell_type": "markdown",
   "metadata": {
    "id": "dPG0FKGKmIg-"
   },
   "source": [
    "# Explore Dataset"
   ]
  },
  {
   "cell_type": "code",
   "execution_count": 8,
   "metadata": {
    "id": "zHE0EzSFmIg-"
   },
   "outputs": [
    {
     "name": "stdout",
     "output_type": "stream",
     "text": [
      "<class 'pandas.core.frame.DataFrame'>\n",
      "RangeIndex: 3312 entries, 0 to 3311\n",
      "Data columns (total 20 columns):\n",
      " #   Column         Non-Null Count  Dtype         \n",
      "---  ------         --------------  -----         \n",
      " 0   Row ID         3312 non-null   int64         \n",
      " 1   Order ID       3312 non-null   object        \n",
      " 2   Order Date     3312 non-null   datetime64[ns]\n",
      " 3   Ship Mode      3312 non-null   object        \n",
      " 4   Customer ID    3312 non-null   object        \n",
      " 5   Customer Name  3312 non-null   object        \n",
      " 6   Segment        3312 non-null   object        \n",
      " 7   Country        3312 non-null   object        \n",
      " 8   City           3312 non-null   object        \n",
      " 9   State          3312 non-null   object        \n",
      " 10  Postal Code    3312 non-null   int64         \n",
      " 11  Region         3312 non-null   object        \n",
      " 12  Product ID     3312 non-null   object        \n",
      " 13  Category       3312 non-null   object        \n",
      " 14  Sub-Category   3312 non-null   object        \n",
      " 15  Product Name   3312 non-null   object        \n",
      " 16  Sales          3312 non-null   float64       \n",
      " 17  Quantity       3312 non-null   int64         \n",
      " 18  Discount       3312 non-null   float64       \n",
      " 19  Profit         3312 non-null   float64       \n",
      "dtypes: datetime64[ns](1), float64(3), int64(3), object(13)\n",
      "memory usage: 517.6+ KB\n"
     ]
    }
   ],
   "source": [
    "#Display Basic Info about DataFrame\n",
    "df.info()"
   ]
  },
  {
   "cell_type": "code",
   "execution_count": null,
   "metadata": {
    "id": "iQKXwSWLmIg_",
    "scrolled": true
   },
   "outputs": [],
   "source": [
    "# Describe Method\n"
   ]
  },
  {
   "cell_type": "code",
   "execution_count": 53,
   "metadata": {
    "id": "W9avuJj0mIg_"
   },
   "outputs": [
    {
     "data": {
      "text/plain": [
       "array(['Standard Class', 'Second Class', 'First Class', 'Same Day'],\n",
       "      dtype=object)"
      ]
     },
     "execution_count": 53,
     "metadata": {},
     "output_type": "execute_result"
    }
   ],
   "source": [
    "# Get a view of unique values in column, e.g. 'Ship Mode'\n",
    "df['Ship Mode'].unique()"
   ]
  },
  {
   "cell_type": "code",
   "execution_count": 64,
   "metadata": {
    "id": "MC8x33WFmIg_"
   },
   "outputs": [
    {
     "data": {
      "text/plain": [
       "Row ID           0\n",
       "Order ID         0\n",
       "Order Date       0\n",
       "Ship Mode        0\n",
       "Customer ID      0\n",
       "Customer Name    0\n",
       "Segment          0\n",
       "Country          0\n",
       "City             0\n",
       "State            0\n",
       "Postal Code      0\n",
       "Region           0\n",
       "Product ID       0\n",
       "Category         0\n",
       "Sub-Category     0\n",
       "Product Name     0\n",
       "Sales            0\n",
       "Quantity         0\n",
       "Discount         0\n",
       "Profit           0\n",
       "dtype: int64"
      ]
     },
     "execution_count": 64,
     "metadata": {},
     "output_type": "execute_result"
    }
   ],
   "source": [
    "df.isna().sum()"
   ]
  },
  {
   "cell_type": "markdown",
   "metadata": {
    "id": "a4BeujI1mIhA"
   },
   "source": [
    "# Data Preperation & Analysis"
   ]
  },
  {
   "cell_type": "markdown",
   "metadata": {
    "id": "lt80ZMAZmIhA"
   },
   "source": [
    "\n",
    "- What was the highest Sale in 2020?\n",
    "- What is average discount rate of charis?\n",
    "- Add extra columns to seperate Year & Month from the Order Date\n",
    "- Add a new column to calculate the Profit Margin for each sales record\n",
    "- Create a new dataframe to reflect total Profit & Sales by Sub-Category\n"
   ]
  },
  {
   "cell_type": "markdown",
   "metadata": {
    "id": "d05bT8_xmIhB"
   },
   "source": [
    "**What was the highest Sale?**"
   ]
  },
  {
   "cell_type": "code",
   "execution_count": 65,
   "metadata": {
    "id": "KpsZ1eq-mIhB"
   },
   "outputs": [
    {
     "data": {
      "text/html": [
       "<div>\n",
       "<style scoped>\n",
       "    .dataframe tbody tr th:only-of-type {\n",
       "        vertical-align: middle;\n",
       "    }\n",
       "\n",
       "    .dataframe tbody tr th {\n",
       "        vertical-align: top;\n",
       "    }\n",
       "\n",
       "    .dataframe thead th {\n",
       "        text-align: right;\n",
       "    }\n",
       "</style>\n",
       "<table border=\"1\" class=\"dataframe\">\n",
       "  <thead>\n",
       "    <tr style=\"text-align: right;\">\n",
       "      <th></th>\n",
       "      <th>Row ID</th>\n",
       "      <th>Order ID</th>\n",
       "      <th>Order Date</th>\n",
       "      <th>Ship Mode</th>\n",
       "      <th>Customer ID</th>\n",
       "      <th>Customer Name</th>\n",
       "      <th>Segment</th>\n",
       "      <th>Country</th>\n",
       "      <th>City</th>\n",
       "      <th>State</th>\n",
       "      <th>Postal Code</th>\n",
       "      <th>Region</th>\n",
       "      <th>Product ID</th>\n",
       "      <th>Category</th>\n",
       "      <th>Sub-Category</th>\n",
       "      <th>Product Name</th>\n",
       "      <th>Sales</th>\n",
       "      <th>Quantity</th>\n",
       "      <th>Discount</th>\n",
       "      <th>Profit</th>\n",
       "    </tr>\n",
       "  </thead>\n",
       "  <tbody>\n",
       "    <tr>\n",
       "      <th>2710</th>\n",
       "      <td>8154</td>\n",
       "      <td>CA-2017-140151</td>\n",
       "      <td>2020-03-23</td>\n",
       "      <td>First Class</td>\n",
       "      <td>RB-19360</td>\n",
       "      <td>Raymond Buch</td>\n",
       "      <td>Consumer</td>\n",
       "      <td>United States</td>\n",
       "      <td>Seattle</td>\n",
       "      <td>Washington</td>\n",
       "      <td>98115</td>\n",
       "      <td>West</td>\n",
       "      <td>TEC-CO-10004722</td>\n",
       "      <td>Technology</td>\n",
       "      <td>Copiers</td>\n",
       "      <td>Canon imageCLASS 2200 Advanced Copier</td>\n",
       "      <td>13999.96</td>\n",
       "      <td>4</td>\n",
       "      <td>0.0</td>\n",
       "      <td>6719.9808</td>\n",
       "    </tr>\n",
       "  </tbody>\n",
       "</table>\n",
       "</div>"
      ],
      "text/plain": [
       "      Row ID        Order ID Order Date    Ship Mode Customer ID  \\\n",
       "2710    8154  CA-2017-140151 2020-03-23  First Class    RB-19360   \n",
       "\n",
       "     Customer Name   Segment        Country     City       State  Postal Code  \\\n",
       "2710  Raymond Buch  Consumer  United States  Seattle  Washington        98115   \n",
       "\n",
       "     Region       Product ID    Category Sub-Category  \\\n",
       "2710   West  TEC-CO-10004722  Technology      Copiers   \n",
       "\n",
       "                               Product Name     Sales  Quantity  Discount  \\\n",
       "2710  Canon imageCLASS 2200 Advanced Copier  13999.96         4       0.0   \n",
       "\n",
       "         Profit  \n",
       "2710  6719.9808  "
      ]
     },
     "execution_count": 65,
     "metadata": {},
     "output_type": "execute_result"
    }
   ],
   "source": [
    "# Highest Sale\n",
    "df.loc[[df['Sales'].idxmax()]]"
   ]
  },
  {
   "cell_type": "markdown",
   "metadata": {
    "id": "S0aCfOuPmIhB"
   },
   "source": [
    "**What is average Discount of charis?**"
   ]
  },
  {
   "cell_type": "code",
   "execution_count": 96,
   "metadata": {
    "id": "syZDWGExmIhD"
   },
   "outputs": [
    {
     "data": {
      "text/plain": [
       "0.15646739130434784"
      ]
     },
     "execution_count": 96,
     "metadata": {},
     "output_type": "execute_result"
    }
   ],
   "source": [
    "# Create Boolean mask\n",
    "chair = df[(df['Sub-Category'] == 'Chairs')]\n",
    "\n",
    "# Now from the filtered dataframe, find the mean discount using the mean function\n",
    "\n",
    "df['Discount'].mean()\n"
   ]
  },
  {
   "cell_type": "markdown",
   "metadata": {
    "id": "gxrjxR4HmIhD"
   },
   "source": [
    "**Add an extra column for \"Order Month\" & \"Order Year\"**"
   ]
  },
  {
   "cell_type": "code",
   "execution_count": 87,
   "metadata": {
    "id": "-YDT1NhRmIhD"
   },
   "outputs": [],
   "source": [
    "# To add a new column use the below format\n",
    "df['Order Month'] = df['Order Date'].map(lambda x: x.month)\n",
    "df['Order Year'] = df['Order Date'].map(lambda x: x.year)"
   ]
  },
  {
   "cell_type": "markdown",
   "metadata": {
    "id": "8lTx5AFlmIhD"
   },
   "source": [
    "**Add a new column to calculate the Profit Margin for each sales record**"
   ]
  },
  {
   "cell_type": "code",
   "execution_count": 89,
   "metadata": {
    "id": "my0kg4G6mIhD"
   },
   "outputs": [],
   "source": [
    "df['Profit Margin'] = df['Sales'] - df['Profit']"
   ]
  },
  {
   "cell_type": "markdown",
   "metadata": {
    "id": "LG9_G9tpmIhE"
   },
   "source": [
    "#### Total Profit &Sales by Sub-Category"
   ]
  },
  {
   "cell_type": "code",
   "execution_count": 141,
   "metadata": {
    "id": "MMJUvLQqmIhE"
   },
   "outputs": [
    {
     "name": "stderr",
     "output_type": "stream",
     "text": [
      "/var/folders/jw/644649297gd0_6hzy4hf6yl00000gn/T/ipykernel_3634/2540601377.py:8: SettingWithCopyWarning: \n",
      "A value is trying to be set on a copy of a slice from a DataFrame\n",
      "\n",
      "See the caveats in the documentation: https://pandas.pydata.org/pandas-docs/stable/user_guide/indexing.html#returning-a-view-versus-a-copy\n",
      "  grouped['Total Profit'][j]  = df[(df['Sub-Category'] == i)]['Profit'].sum()\n",
      "/var/folders/jw/644649297gd0_6hzy4hf6yl00000gn/T/ipykernel_3634/2540601377.py:9: SettingWithCopyWarning: \n",
      "A value is trying to be set on a copy of a slice from a DataFrame\n",
      "\n",
      "See the caveats in the documentation: https://pandas.pydata.org/pandas-docs/stable/user_guide/indexing.html#returning-a-view-versus-a-copy\n",
      "  grouped['Sales'][j] = df[(df['Sub-Category'] == i)]['Sales'].sum()\n"
     ]
    }
   ],
   "source": [
    "# Group By Sub-Category [SUM]\n",
    "grouped = pd.DataFrame()\n",
    "grouped['Sub-Category'] = df['Sub-Category'].unique()\n",
    "grouped['Total Profit'] = np.nan\n",
    "grouped['Sales'] = np.nan\n",
    "j = 0 \n",
    "for i in df['Sub-Category'].unique():\n",
    "    grouped['Total Profit'][j]  = df[(df['Sub-Category'] == i)]['Profit'].sum()\n",
    "    grouped['Sales'][j] = df[(df['Sub-Category'] == i)]['Sales'].sum()\n",
    "    j+=1\n"
   ]
  },
  {
   "cell_type": "code",
   "execution_count": 131,
   "metadata": {
    "id": "pJtLx41GsnQt"
   },
   "outputs": [
    {
     "data": {
      "text/html": [
       "<div>\n",
       "<style scoped>\n",
       "    .dataframe tbody tr th:only-of-type {\n",
       "        vertical-align: middle;\n",
       "    }\n",
       "\n",
       "    .dataframe tbody tr th {\n",
       "        vertical-align: top;\n",
       "    }\n",
       "\n",
       "    .dataframe thead th {\n",
       "        text-align: right;\n",
       "    }\n",
       "</style>\n",
       "<table border=\"1\" class=\"dataframe\">\n",
       "  <thead>\n",
       "    <tr style=\"text-align: right;\">\n",
       "      <th></th>\n",
       "      <th>Sub-Category</th>\n",
       "      <th>Total Profit</th>\n",
       "      <th>Sales</th>\n",
       "    </tr>\n",
       "  </thead>\n",
       "  <tbody>\n",
       "    <tr>\n",
       "      <th>0</th>\n",
       "      <td>Paper</td>\n",
       "      <td>12040.8434</td>\n",
       "      <td>27694.718</td>\n",
       "    </tr>\n",
       "    <tr>\n",
       "      <th>1</th>\n",
       "      <td>Chairs</td>\n",
       "      <td>7643.5493</td>\n",
       "      <td>95554.353</td>\n",
       "    </tr>\n",
       "    <tr>\n",
       "      <th>2</th>\n",
       "      <td>Phones</td>\n",
       "      <td>12849.3250</td>\n",
       "      <td>105340.516</td>\n",
       "    </tr>\n",
       "    <tr>\n",
       "      <th>3</th>\n",
       "      <td>Storage</td>\n",
       "      <td>7402.8007</td>\n",
       "      <td>69677.618</td>\n",
       "    </tr>\n",
       "    <tr>\n",
       "      <th>4</th>\n",
       "      <td>Binders</td>\n",
       "      <td>7669.7418</td>\n",
       "      <td>72788.045</td>\n",
       "    </tr>\n",
       "  </tbody>\n",
       "</table>\n",
       "</div>"
      ],
      "text/plain": [
       "  Sub-Category  Total Profit       Sales\n",
       "0        Paper    12040.8434   27694.718\n",
       "1       Chairs     7643.5493   95554.353\n",
       "2       Phones    12849.3250  105340.516\n",
       "3      Storage     7402.8007   69677.618\n",
       "4      Binders     7669.7418   72788.045"
      ]
     },
     "execution_count": 131,
     "metadata": {},
     "output_type": "execute_result"
    }
   ],
   "source": [
    "# Print out head for this grouped out table\n",
    "grouped.head()"
   ]
  },
  {
   "cell_type": "markdown",
   "metadata": {
    "id": "ohGjji08s2VQ"
   },
   "source": [
    "# Fin."
   ]
  }
 ],
 "metadata": {
  "colab": {
   "collapsed_sections": [],
   "provenance": []
  },
  "kernelspec": {
   "display_name": "Python 3 (ipykernel)",
   "language": "python",
   "name": "python3"
  },
  "language_info": {
   "codemirror_mode": {
    "name": "ipython",
    "version": 3
   },
   "file_extension": ".py",
   "mimetype": "text/x-python",
   "name": "python",
   "nbconvert_exporter": "python",
   "pygments_lexer": "ipython3",
   "version": "3.9.7"
  },
  "toc": {
   "base_numbering": 1,
   "nav_menu": {},
   "number_sections": false,
   "sideBar": true,
   "skip_h1_title": false,
   "title_cell": "Table of Contents",
   "title_sidebar": "Contents",
   "toc_cell": false,
   "toc_position": {},
   "toc_section_display": true,
   "toc_window_display": false
  }
 },
 "nbformat": 4,
 "nbformat_minor": 1
}
